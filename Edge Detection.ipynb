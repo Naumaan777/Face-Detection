{
 "cells": [
  {
   "cell_type": "code",
   "execution_count": 7,
   "id": "25f30533",
   "metadata": {},
   "outputs": [],
   "source": [
    "import cv2\n",
    "  \n",
    "img = cv2.imread(\"k2.jpg\")  # Read image\n",
    "  \n",
    "# Setting parameter values\n",
    "t_lower = 100  # Lower Threshold\n",
    "t_upper = 150  # Upper threshold\n",
    "  \n",
    "# Applying the Canny Edge filter\n",
    "edge = cv2.Canny(img, t_lower, t_upper)\n",
    "  \n",
    "cv2.imshow('original', img)\n",
    "cv2.imshow('edge', edge)\n",
    "cv2.waitKey(0)\n",
    "cv2.destroyAllWindows()"
   ]
  },
  {
   "cell_type": "code",
   "execution_count": null,
   "id": "cd657c13",
   "metadata": {},
   "outputs": [],
   "source": []
  }
 ],
 "metadata": {
  "kernelspec": {
   "display_name": "Python 3 (ipykernel)",
   "language": "python",
   "name": "python3"
  },
  "language_info": {
   "codemirror_mode": {
    "name": "ipython",
    "version": 3
   },
   "file_extension": ".py",
   "mimetype": "text/x-python",
   "name": "python",
   "nbconvert_exporter": "python",
   "pygments_lexer": "ipython3",
   "version": "3.10.2"
  }
 },
 "nbformat": 4,
 "nbformat_minor": 5
}
