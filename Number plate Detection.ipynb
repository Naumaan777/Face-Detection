{
 "cells": [
  {
   "cell_type": "code",
   "execution_count": 4,
   "id": "9dcdf446",
   "metadata": {},
   "outputs": [
    {
     "data": {
      "text/plain": [
       "-1"
      ]
     },
     "execution_count": 4,
     "metadata": {},
     "output_type": "execute_result"
    }
   ],
   "source": [
    "import cv2\n",
    "#load the cascade\n",
    "np_cascade=cv2.CascadeClassifier('np.xml')\n",
    "#read the image\n",
    "img =cv2.imread('1.jpg')\n",
    "#convert color image into grayscale\n",
    "grey=cv2.cvtColor(img, cv2.COLOR_BGR2GRAY)\n",
    "#detect Plate\n",
    "np=np_cascade.detectMultiScale (grey, 1.04, 4)\n",
    "#draw rectengal on Plate\n",
    "\n",
    "for (x, y, w, h) in np:\n",
    "    cv2.rectangle(img, (x, y), (x+w , y+h), (20, 100 ,180), 2)\n",
    "cv2.imshow('Detected Plate', img)\n",
    "cv2.waitKey(0)"
   ]
  },
  {
   "cell_type": "code",
   "execution_count": null,
   "id": "91fe2711",
   "metadata": {},
   "outputs": [],
   "source": []
  }
 ],
 "metadata": {
  "kernelspec": {
   "display_name": "Python 3 (ipykernel)",
   "language": "python",
   "name": "python3"
  },
  "language_info": {
   "codemirror_mode": {
    "name": "ipython",
    "version": 3
   },
   "file_extension": ".py",
   "mimetype": "text/x-python",
   "name": "python",
   "nbconvert_exporter": "python",
   "pygments_lexer": "ipython3",
   "version": "3.10.2"
  }
 },
 "nbformat": 4,
 "nbformat_minor": 5
}
